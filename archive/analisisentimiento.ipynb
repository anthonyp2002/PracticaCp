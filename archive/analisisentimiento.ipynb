{
  "cells": [
    {
      "cell_type": "markdown",
      "metadata": {
        "id": "-pBNwey50qnD"
      },
      "source": [
        "**MODELO SVM PARA ANÁLISIS DE SENTIMIENTOS A PARTIR DE COMENTARIOS**"
      ]
    },
    {
      "cell_type": "markdown",
      "metadata": {
        "id": "tZdIrzmLdsyC"
      },
      "source": [
        "**Fase 1: Importación de Librerías**\n"
      ]
    },
    {
      "cell_type": "code",
      "execution_count": null,
      "metadata": {
        "id": "_-rV3pBpkfN6"
      },
      "outputs": [],
      "source": [
        "# Importación de librerías\n",
        "import pandas as pd\n",
        "import numpy as np\n",
        "from sklearn.model_selection import train_test_split, GridSearchCV\n",
        "from sklearn.feature_extraction.text import TfidfVectorizer\n",
        "from sklearn.svm import SVC\n",
        "from sklearn.pipeline import Pipeline\n",
        "from sklearn.metrics import classification_report, confusion_matrix, accuracy_score, precision_score, recall_score, f1_score\n",
        "import pickle  # Para guardar y cargar el modelo\n",
        "import seaborn as sns\n",
        "import matplotlib.pyplot as plt"
      ]
    },
    {
      "cell_type": "markdown",
      "metadata": {
        "id": "lb-Cgqg2dvhC"
      },
      "source": [
        "**Fase 2: Carga y Filtrado del Dataset**\n"
      ]
    },
    {
      "cell_type": "code",
      "execution_count": null,
      "metadata": {
        "colab": {
          "base_uri": "https://localhost:8080/"
        },
        "id": "mOofi7C3cMcw",
        "outputId": "4427541d-73e1-4aa2-ba6c-a0aa3762fd87"
      },
      "outputs": [
        {
          "output_type": "stream",
          "name": "stderr",
          "text": [
            "<ipython-input-3-cfdcbce3586e>:19: DeprecationWarning: DataFrameGroupBy.apply operated on the grouping columns. This behavior is deprecated, and in a future version of pandas the grouping columns will be excluded from the operation. Either pass `include_groups=False` to exclude the groupings or explicitly select the grouping columns after groupby to silence this warning.\n",
            "  return df.groupby(target_col, group_keys=False).apply(\n",
            "<ipython-input-3-cfdcbce3586e>:19: DeprecationWarning: DataFrameGroupBy.apply operated on the grouping columns. This behavior is deprecated, and in a future version of pandas the grouping columns will be excluded from the operation. Either pass `include_groups=False` to exclude the groupings or explicitly select the grouping columns after groupby to silence this warning.\n",
            "  return df.groupby(target_col, group_keys=False).apply(\n",
            "<ipython-input-3-cfdcbce3586e>:19: DeprecationWarning: DataFrameGroupBy.apply operated on the grouping columns. This behavior is deprecated, and in a future version of pandas the grouping columns will be excluded from the operation. Either pass `include_groups=False` to exclude the groupings or explicitly select the grouping columns after groupby to silence this warning.\n",
            "  return df.groupby(target_col, group_keys=False).apply(\n"
          ]
        }
      ],
      "source": [
        "# Cargar datos\n",
        "train_df = pd.read_csv(\"/content/train.csv\")\n",
        "test_df = pd.read_csv(\"/content/test.csv\")\n",
        "dev_df = pd.read_csv(\"/content/validation.csv\")\n",
        "\n",
        "# Filtrar solo español e inglés\n",
        "target_languages = ['en', 'es']  # Inglés y español\n",
        "train_df = train_df[train_df['language'].isin(target_languages)]\n",
        "test_df = test_df[test_df['language'].isin(target_languages)]\n",
        "dev_df = dev_df[dev_df['language'].isin(target_languages)]\n",
        "\n",
        "# Reducir el tamaño del dataset con muestreo estratificado\n",
        "new_total_size = 84000\n",
        "train_size = int(new_total_size * 0.70)\n",
        "dev_size = int(new_total_size * 0.20)\n",
        "test_size = int(new_total_size * 0.10)\n",
        "\n",
        "def stratified_sample(df, target_col, sample_size):\n",
        "    return df.groupby(target_col, group_keys=False).apply(\n",
        "        lambda x: x.sample(n=min(len(x), int(sample_size * len(x) / len(df))), random_state=42)\n",
        "    )\n",
        "\n",
        "train_subset = stratified_sample(train_df, target_col='stars', sample_size=train_size)\n",
        "dev_subset = stratified_sample(dev_df, target_col='stars', sample_size=dev_size)\n",
        "test_subset = stratified_sample(test_df, target_col='stars', sample_size=test_size)\n",
        "\n",
        "# Combinar los conjuntos de datos\n",
        "data = pd.concat([train_subset, dev_subset, test_subset])"
      ]
    },
    {
      "cell_type": "markdown",
      "metadata": {
        "id": "narJLOxpeMLW"
      },
      "source": [
        "**Fase 3: Preprocesamiento de Texto**\n"
      ]
    },
    {
      "cell_type": "code",
      "execution_count": null,
      "metadata": {
        "id": "Qrf6FpsncSMv"
      },
      "outputs": [],
      "source": [
        "# Preprocesamiento de texto\n",
        "data['review_body'] = data['review_body'].str.lower().str.replace('[^\\w\\s]', '')\n",
        "# Convertir a minúsculas y eliminar caracteres especiales"
      ]
    },
    {
      "cell_type": "markdown",
      "metadata": {
        "id": "Am-pjPOGeN3m"
      },
      "source": [
        "**Fase 4: Conversión de Estrellas a Polaridad**\n",
        "Convertimos las calificaciones de estrellas (1-5) en tres categorías de polaridad: negativo (0), neutral (1) y positivo (2).\n",
        "\n"
      ]
    },
    {
      "cell_type": "code",
      "execution_count": null,
      "metadata": {
        "id": "sP9y0ru0cfAy"
      },
      "outputs": [],
      "source": [
        "# Función para convertir estrellas a polaridad\n",
        "def convert_to_polarity(stars):\n",
        "    if stars in [1, 2]:\n",
        "        return 0  # Negativo\n",
        "    elif stars == 3:\n",
        "        return 1  # Neutral\n",
        "    elif stars in [4, 5]:\n",
        "        return 2  # Positivo\n",
        "\n",
        "# Aplicar la conversión\n",
        "data['polarity'] = data['stars'].apply(convert_to_polarity)"
      ]
    },
    {
      "cell_type": "markdown",
      "metadata": {
        "id": "SGLVoIxZjQ6H"
      },
      "source": [
        "**Fase 5: División del Dataset en Train y Test**\n",
        "\n"
      ]
    },
    {
      "cell_type": "code",
      "execution_count": null,
      "metadata": {
        "id": "yj2dZWvFzkIc"
      },
      "outputs": [],
      "source": [
        "# Dividir en train y test\n",
        "X_train, X_test, y_train, y_test = train_test_split(data['review_body'], data['polarity'], test_size=0.2, random_state=42)"
      ]
    },
    {
      "cell_type": "markdown",
      "metadata": {
        "id": "-8eswqVGjYxq"
      },
      "source": [
        "**Fase 6: Creación y Entrenamiento del Modelo + Evaluación Rendimiento**\n"
      ]
    },
    {
      "cell_type": "code",
      "execution_count": null,
      "metadata": {
        "colab": {
          "base_uri": "https://localhost:8080/"
        },
        "id": "EF4h1Sc7K5t6",
        "outputId": "1f1bba41-0937-4677-be11-5c2b8b93c032"
      },
      "outputs": [
        {
          "output_type": "stream",
          "name": "stdout",
          "text": [
            "\n",
            "--- Reporte de Evaluación del Modelo SVM ---\n",
            "Accuracy: 0.7035\n",
            "Precision: 0.6822\n",
            "Recall: 0.7035\n",
            "F1 Score: 0.6883\n",
            "\n",
            "Reporte de clasificación detallado:\n",
            "\n",
            "              precision    recall  f1-score   support\n",
            "\n",
            "           0       0.71      0.81      0.76      6059\n",
            "           1       0.43      0.28      0.34      3128\n",
            "           2       0.78      0.81      0.79      6252\n",
            "\n",
            "    accuracy                           0.70     15439\n",
            "   macro avg       0.64      0.63      0.63     15439\n",
            "weighted avg       0.68      0.70      0.69     15439\n",
            "\n"
          ]
        },
        {
          "output_type": "display_data",
          "data": {
            "text/plain": [
              "<Figure size 640x480 with 2 Axes>"
            ],
            "image/png": "[encoded data removed]"
          },
          "metadata": {}
        }
      ],
      "source": [
        "from sklearn.feature_extraction.text import TfidfVectorizer\n",
        "\n",
        "# Convertir los textos a vectores numéricos\n",
        "vectorizer = TfidfVectorizer(max_features=5000, ngram_range=(1, 1))\n",
        "X_train_vect = vectorizer.fit_transform(X_train)\n",
        "X_test_vect = vectorizer.transform(X_test)\n",
        "\n",
        "# Entrenar el modelo SVM directamente\n",
        "svm_model = SVC(C=100, gamma='scale')\n",
        "svm_model.fit(X_train_vect, y_train)\n",
        "\n",
        "# Evaluar el modelo en el conjunto de prueba\n",
        "y_pred = svm_model.predict(X_test_vect)\n",
        "\n",
        "# Métricas de evaluación\n",
        "accuracy = accuracy_score(y_test, y_pred)\n",
        "precision = precision_score(y_test, y_pred, average='weighted')\n",
        "recall = recall_score(y_test, y_pred, average='weighted')\n",
        "f1 = f1_score(y_test, y_pred, average='weighted')\n",
        "\n",
        "# Reporte detallado\n",
        "print(\"\\n--- Reporte de Evaluación del Modelo SVM ---\")\n",
        "print(f\"Accuracy: {accuracy:.4f}\")\n",
        "print(f\"Precision: {precision:.4f}\")\n",
        "print(f\"Recall: {recall:.4f}\")\n",
        "print(f\"F1 Score: {f1:.4f}\")\n",
        "print(\"\\nReporte de clasificación detallado:\\n\")\n",
        "print(classification_report(y_test, y_pred))\n",
        "\n",
        "# Matriz de confusión\n",
        "conf_matrix = confusion_matrix(y_test, y_pred)\n",
        "sns.heatmap(conf_matrix, annot=True, fmt='d', cmap='viridis')\n",
        "plt.xlabel('Predicción')\n",
        "plt.ylabel('Real')\n",
        "plt.title('Matriz de Confusión')\n",
        "plt.show()"
      ]
    },
    {
      "cell_type": "markdown",
      "metadata": {
        "id": "klQbKUjHjdcw"
      },
      "source": [
        "**Fase 7: Guardado del Modelo Entrenado**"
      ]
    },
    {
      "cell_type": "code",
      "execution_count": null,
      "metadata": {
        "id": "rvUaUcWtznBB"
      },
      "outputs": [],
      "source": [
        "import pickle\n",
        "\n",
        "# Guardar el modelo SVM entrenado\n",
        "with open('modelo_svm.pkl', 'wb') as f:\n",
        "    pickle.dump(svm_model, f)\n",
        "\n",
        "# Guardar el vectorizador entrenado\n",
        "with open('vectorizer.pkl', 'wb') as f:\n",
        "    pickle.dump(vectorizer, f)"
      ]
    },
    {
      "cell_type": "markdown",
      "metadata": {
        "id": "l1t2zJ56oIqQ"
      },
      "source": [
        "**Fase 8: Carga y Uso del Modelo Guardado**"
      ]
    },
    {
      "cell_type": "code",
      "execution_count": null,
      "metadata": {
        "colab": {
          "base_uri": "https://localhost:8080/"
        },
        "id": "kOGla4cYzs4e",
        "outputId": "d24eec07-c743-4b6a-e7d1-a90359fc07ef"
      },
      "outputs": [
        {
          "output_type": "stream",
          "name": "stdout",
          "text": [
            "Predicción de polaridad: 0\n"
          ]
        }
      ],
      "source": [
        "import pickle\n",
        "import re\n",
        "\n",
        "# Cargar el modelo SVM entrenado\n",
        "with open('modelo_svm.pkl', 'rb') as f:\n",
        "    loaded_model = pickle.load(f)\n",
        "\n",
        "# Cargar el vectorizador entrenado\n",
        "with open('vectorizer.pkl', 'rb') as f:\n",
        "    loaded_vectorizer = pickle.load(f)\n",
        "\n",
        "# Función para predecir la polaridad de un nuevo texto\n",
        "def predecir_polaridad(texto):\n",
        "    # Preprocesar el texto igual que antes\n",
        "    texto_limpio = re.sub(r'[^\\w\\s]', '', texto.lower())\n",
        "\n",
        "    # Transformar el texto con el mismo vectorizador entrenado\n",
        "    texto_vectorizado = loaded_vectorizer.transform([texto_limpio])\n",
        "\n",
        "    # Hacer la predicción con el modelo SVM\n",
        "    polaridad = loaded_model.predict(texto_vectorizado)\n",
        "\n",
        "    return polaridad[0]\n",
        "\n",
        "# Ejemplo de predicción\n",
        "nuevo_texto = \"I feel really sad about what happened.\"\n",
        "prediccion = predecir_polaridad(nuevo_texto)\n",
        "print(f\"Predicción de polaridad: {prediccion}\")"
      ]
    },
    {
      "cell_type": "code",
      "execution_count": null,
      "metadata": {
        "id": "NqRWhzKMeWMg"
      },
      "outputs": [],
      "source": []
    }
  ],
  "metadata": {
    "colab": {
      "provenance": []
    },
    "kernelspec": {
      "display_name": "Python 3",
      "name": "python3"
    },
    "language_info": {
      "name": "python"
    }
  },
  "nbformat": 4,
  "nbformat_minor": 0
}